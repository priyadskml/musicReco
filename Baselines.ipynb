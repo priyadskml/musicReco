{
 "cells": [
  {
   "cell_type": "code",
   "execution_count": 1,
   "metadata": {
    "collapsed": true
   },
   "outputs": [],
   "source": [
    "from utils import * \n",
    "import numpy as np\n",
    "\n",
    "URL = \"http://mtg.upf.edu/static/datasets/last.fm/lastfm-dataset-1K.tar.gz\"\n",
    "f_name = \"lastfm-dataset-1K.tar.gz\"\n",
    "dir_name = \"lastfm-dataset-1K\"\n",
    "dataset_f_name = \"userid-timestamp-artid-artname-traid-traname.tsv\""
   ]
  },
  {
   "cell_type": "code",
   "execution_count": 2,
   "metadata": {
    "collapsed": false
   },
   "outputs": [
    {
     "name": "stdout",
     "output_type": "stream",
     "text": [
      "Dataset Exists...\n"
     ]
    }
   ],
   "source": [
    "download_dataset(URL, f_name)"
   ]
  },
  {
   "cell_type": "code",
   "execution_count": 57,
   "metadata": {
    "collapsed": false
   },
   "outputs": [
    {
     "name": "stdout",
     "output_type": "stream",
     "text": [
      "Read File...\n"
     ]
    }
   ],
   "source": [
    "user_data = load_dataset(dir_name, dataset_f_name, 1000000)"
   ]
  },
  {
   "cell_type": "code",
   "execution_count": 58,
   "metadata": {
    "collapsed": false
   },
   "outputs": [
    {
     "data": {
      "text/html": [
       "<div>\n",
       "<table border=\"1\" class=\"dataframe\">\n",
       "  <thead>\n",
       "    <tr style=\"text-align: right;\">\n",
       "      <th></th>\n",
       "      <th>userid</th>\n",
       "      <th>timestamp</th>\n",
       "      <th>artist-id</th>\n",
       "      <th>artist-name</th>\n",
       "      <th>track-id</th>\n",
       "      <th>track-name</th>\n",
       "    </tr>\n",
       "  </thead>\n",
       "  <tbody>\n",
       "    <tr>\n",
       "      <th>0</th>\n",
       "      <td>user_000001</td>\n",
       "      <td>2009-05-04T23:08:57Z</td>\n",
       "      <td>f1b1cf71-bd35-4e99-8624-24a6e15f133a</td>\n",
       "      <td>Deep Dish</td>\n",
       "      <td>NaN</td>\n",
       "      <td>Fuck Me Im Famous (Pacha Ibiza)-09-28-2007</td>\n",
       "    </tr>\n",
       "    <tr>\n",
       "      <th>1</th>\n",
       "      <td>user_000001</td>\n",
       "      <td>2009-05-04T13:54:10Z</td>\n",
       "      <td>a7f7df4a-77d8-4f12-8acd-5c60c93f4de8</td>\n",
       "      <td>坂本龍一</td>\n",
       "      <td>NaN</td>\n",
       "      <td>Composition 0919 (Live_2009_4_15)</td>\n",
       "    </tr>\n",
       "    <tr>\n",
       "      <th>2</th>\n",
       "      <td>user_000001</td>\n",
       "      <td>2009-05-04T13:52:04Z</td>\n",
       "      <td>a7f7df4a-77d8-4f12-8acd-5c60c93f4de8</td>\n",
       "      <td>坂本龍一</td>\n",
       "      <td>NaN</td>\n",
       "      <td>Mc2 (Live_2009_4_15)</td>\n",
       "    </tr>\n",
       "    <tr>\n",
       "      <th>3</th>\n",
       "      <td>user_000001</td>\n",
       "      <td>2009-05-04T13:42:52Z</td>\n",
       "      <td>a7f7df4a-77d8-4f12-8acd-5c60c93f4de8</td>\n",
       "      <td>坂本龍一</td>\n",
       "      <td>NaN</td>\n",
       "      <td>Hibari (Live_2009_4_15)</td>\n",
       "    </tr>\n",
       "    <tr>\n",
       "      <th>4</th>\n",
       "      <td>user_000001</td>\n",
       "      <td>2009-05-04T13:42:11Z</td>\n",
       "      <td>a7f7df4a-77d8-4f12-8acd-5c60c93f4de8</td>\n",
       "      <td>坂本龍一</td>\n",
       "      <td>NaN</td>\n",
       "      <td>Mc1 (Live_2009_4_15)</td>\n",
       "    </tr>\n",
       "    <tr>\n",
       "      <th>5</th>\n",
       "      <td>user_000001</td>\n",
       "      <td>2009-05-04T13:38:31Z</td>\n",
       "      <td>a7f7df4a-77d8-4f12-8acd-5c60c93f4de8</td>\n",
       "      <td>坂本龍一</td>\n",
       "      <td>NaN</td>\n",
       "      <td>To Stanford (Live_2009_4_15)</td>\n",
       "    </tr>\n",
       "    <tr>\n",
       "      <th>6</th>\n",
       "      <td>user_000001</td>\n",
       "      <td>2009-05-04T13:33:28Z</td>\n",
       "      <td>a7f7df4a-77d8-4f12-8acd-5c60c93f4de8</td>\n",
       "      <td>坂本龍一</td>\n",
       "      <td>NaN</td>\n",
       "      <td>Improvisation (Live_2009_4_15)</td>\n",
       "    </tr>\n",
       "    <tr>\n",
       "      <th>7</th>\n",
       "      <td>user_000001</td>\n",
       "      <td>2009-05-04T13:23:45Z</td>\n",
       "      <td>a7f7df4a-77d8-4f12-8acd-5c60c93f4de8</td>\n",
       "      <td>坂本龍一</td>\n",
       "      <td>NaN</td>\n",
       "      <td>Glacier (Live_2009_4_15)</td>\n",
       "    </tr>\n",
       "    <tr>\n",
       "      <th>8</th>\n",
       "      <td>user_000001</td>\n",
       "      <td>2009-05-04T13:19:22Z</td>\n",
       "      <td>a7f7df4a-77d8-4f12-8acd-5c60c93f4de8</td>\n",
       "      <td>坂本龍一</td>\n",
       "      <td>NaN</td>\n",
       "      <td>Parolibre (Live_2009_4_15)</td>\n",
       "    </tr>\n",
       "    <tr>\n",
       "      <th>9</th>\n",
       "      <td>user_000001</td>\n",
       "      <td>2009-05-04T13:13:38Z</td>\n",
       "      <td>a7f7df4a-77d8-4f12-8acd-5c60c93f4de8</td>\n",
       "      <td>坂本龍一</td>\n",
       "      <td>NaN</td>\n",
       "      <td>Bibo No Aozora (Live_2009_4_15)</td>\n",
       "    </tr>\n",
       "  </tbody>\n",
       "</table>\n",
       "</div>"
      ],
      "text/plain": [
       "        userid             timestamp                             artist-id  \\\n",
       "0  user_000001  2009-05-04T23:08:57Z  f1b1cf71-bd35-4e99-8624-24a6e15f133a   \n",
       "1  user_000001  2009-05-04T13:54:10Z  a7f7df4a-77d8-4f12-8acd-5c60c93f4de8   \n",
       "2  user_000001  2009-05-04T13:52:04Z  a7f7df4a-77d8-4f12-8acd-5c60c93f4de8   \n",
       "3  user_000001  2009-05-04T13:42:52Z  a7f7df4a-77d8-4f12-8acd-5c60c93f4de8   \n",
       "4  user_000001  2009-05-04T13:42:11Z  a7f7df4a-77d8-4f12-8acd-5c60c93f4de8   \n",
       "5  user_000001  2009-05-04T13:38:31Z  a7f7df4a-77d8-4f12-8acd-5c60c93f4de8   \n",
       "6  user_000001  2009-05-04T13:33:28Z  a7f7df4a-77d8-4f12-8acd-5c60c93f4de8   \n",
       "7  user_000001  2009-05-04T13:23:45Z  a7f7df4a-77d8-4f12-8acd-5c60c93f4de8   \n",
       "8  user_000001  2009-05-04T13:19:22Z  a7f7df4a-77d8-4f12-8acd-5c60c93f4de8   \n",
       "9  user_000001  2009-05-04T13:13:38Z  a7f7df4a-77d8-4f12-8acd-5c60c93f4de8   \n",
       "\n",
       "  artist-name track-id                                  track-name  \n",
       "0   Deep Dish      NaN  Fuck Me Im Famous (Pacha Ibiza)-09-28-2007  \n",
       "1        坂本龍一      NaN           Composition 0919 (Live_2009_4_15)  \n",
       "2        坂本龍一      NaN                        Mc2 (Live_2009_4_15)  \n",
       "3        坂本龍一      NaN                     Hibari (Live_2009_4_15)  \n",
       "4        坂本龍一      NaN                        Mc1 (Live_2009_4_15)  \n",
       "5        坂本龍一      NaN                To Stanford (Live_2009_4_15)  \n",
       "6        坂本龍一      NaN              Improvisation (Live_2009_4_15)  \n",
       "7        坂本龍一      NaN                    Glacier (Live_2009_4_15)  \n",
       "8        坂本龍一      NaN                  Parolibre (Live_2009_4_15)  \n",
       "9        坂本龍一      NaN             Bibo No Aozora (Live_2009_4_15)  "
      ]
     },
     "execution_count": 58,
     "metadata": {},
     "output_type": "execute_result"
    }
   ],
   "source": [
    "user_data[:10]"
   ]
  },
  {
   "cell_type": "markdown",
   "metadata": {},
   "source": [
    "## Cleaning infrequent data\n",
    "\n",
    "First remove infrequent tracks (<10 plays)"
   ]
  },
  {
   "cell_type": "code",
   "execution_count": 59,
   "metadata": {
    "collapsed": true
   },
   "outputs": [],
   "source": [
    "# Removing infrequent tracks.\n",
    "if user_data['track-id'].isnull().sum() > 0:\n",
    "    user_data = user_data.dropna(axis = 0, subset = ['track-id'])"
   ]
  },
  {
   "cell_type": "code",
   "execution_count": 60,
   "metadata": {
    "collapsed": false
   },
   "outputs": [
    {
     "data": {
      "text/plain": [
       "(865616, 6)"
      ]
     },
     "execution_count": 60,
     "metadata": {},
     "output_type": "execute_result"
    }
   ],
   "source": [
    "user_data.shape"
   ]
  },
  {
   "cell_type": "code",
   "execution_count": 61,
   "metadata": {
    "collapsed": false
   },
   "outputs": [
    {
     "data": {
      "text/html": [
       "<div>\n",
       "<table border=\"1\" class=\"dataframe\">\n",
       "  <thead>\n",
       "    <tr style=\"text-align: right;\">\n",
       "      <th></th>\n",
       "      <th>total</th>\n",
       "    </tr>\n",
       "  </thead>\n",
       "  <tbody>\n",
       "    <tr>\n",
       "      <th>count</th>\n",
       "      <td>126986.000000</td>\n",
       "    </tr>\n",
       "    <tr>\n",
       "      <th>mean</th>\n",
       "      <td>6.816625</td>\n",
       "    </tr>\n",
       "    <tr>\n",
       "      <th>std</th>\n",
       "      <td>25.337567</td>\n",
       "    </tr>\n",
       "    <tr>\n",
       "      <th>min</th>\n",
       "      <td>1.000000</td>\n",
       "    </tr>\n",
       "    <tr>\n",
       "      <th>25%</th>\n",
       "      <td>1.000000</td>\n",
       "    </tr>\n",
       "    <tr>\n",
       "      <th>50%</th>\n",
       "      <td>2.000000</td>\n",
       "    </tr>\n",
       "    <tr>\n",
       "      <th>75%</th>\n",
       "      <td>6.000000</td>\n",
       "    </tr>\n",
       "    <tr>\n",
       "      <th>max</th>\n",
       "      <td>2069.000000</td>\n",
       "    </tr>\n",
       "  </tbody>\n",
       "</table>\n",
       "</div>"
      ],
      "text/plain": [
       "               total\n",
       "count  126986.000000\n",
       "mean        6.816625\n",
       "std        25.337567\n",
       "min         1.000000\n",
       "25%         1.000000\n",
       "50%         2.000000\n",
       "75%         6.000000\n",
       "max      2069.000000"
      ]
     },
     "execution_count": 61,
     "metadata": {},
     "output_type": "execute_result"
    }
   ],
   "source": [
    "total_plays = user_data.groupby([\"track-id\"]).size().reset_index()\n",
    "total_plays.rename(columns = {0: 'total'}, inplace = True)\n",
    "total_plays.describe()"
   ]
  },
  {
   "cell_type": "code",
   "execution_count": 63,
   "metadata": {
    "collapsed": false
   },
   "outputs": [
    {
     "data": {
      "text/plain": [
       "count                                    20666\n",
       "unique                                   20666\n",
       "top       8837c142-45e4-495f-abd9-4f3c016dfa52\n",
       "freq                                         1\n",
       "Name: track-id, dtype: object"
      ]
     },
     "execution_count": 63,
     "metadata": {},
     "output_type": "execute_result"
    }
   ],
   "source": [
    "frequent_plays = total_plays[total_plays['total'] >= 10]['track-id']\n",
    "frequent_plays.describe()"
   ]
  },
  {
   "cell_type": "code",
   "execution_count": 64,
   "metadata": {
    "collapsed": false
   },
   "outputs": [
    {
     "data": {
      "text/html": [
       "<div>\n",
       "<table border=\"1\" class=\"dataframe\">\n",
       "  <thead>\n",
       "    <tr style=\"text-align: right;\">\n",
       "      <th></th>\n",
       "      <th>userid</th>\n",
       "      <th>timestamp</th>\n",
       "      <th>artist-id</th>\n",
       "      <th>artist-name</th>\n",
       "      <th>track-id</th>\n",
       "      <th>track-name</th>\n",
       "    </tr>\n",
       "  </thead>\n",
       "  <tbody>\n",
       "    <tr>\n",
       "      <th>count</th>\n",
       "      <td>595039</td>\n",
       "      <td>595039</td>\n",
       "      <td>595039</td>\n",
       "      <td>595039</td>\n",
       "      <td>595039</td>\n",
       "      <td>595039</td>\n",
       "    </tr>\n",
       "    <tr>\n",
       "      <th>unique</th>\n",
       "      <td>41</td>\n",
       "      <td>592738</td>\n",
       "      <td>3331</td>\n",
       "      <td>3309</td>\n",
       "      <td>20666</td>\n",
       "      <td>19328</td>\n",
       "    </tr>\n",
       "    <tr>\n",
       "      <th>top</th>\n",
       "      <td>user_000033</td>\n",
       "      <td>2008-11-24T11:38:21Z</td>\n",
       "      <td>164f0d73-1234-4e2c-8743-d77bf2191051</td>\n",
       "      <td>Kanye West</td>\n",
       "      <td>82558949-cd98-4c58-af35-3f1a9430d52e</td>\n",
       "      <td>Heartless</td>\n",
       "    </tr>\n",
       "    <tr>\n",
       "      <th>freq</th>\n",
       "      <td>58772</td>\n",
       "      <td>24</td>\n",
       "      <td>26616</td>\n",
       "      <td>26616</td>\n",
       "      <td>2069</td>\n",
       "      <td>2120</td>\n",
       "    </tr>\n",
       "  </tbody>\n",
       "</table>\n",
       "</div>"
      ],
      "text/plain": [
       "             userid             timestamp  \\\n",
       "count        595039                595039   \n",
       "unique           41                592738   \n",
       "top     user_000033  2008-11-24T11:38:21Z   \n",
       "freq          58772                    24   \n",
       "\n",
       "                                   artist-id artist-name  \\\n",
       "count                                 595039      595039   \n",
       "unique                                  3331        3309   \n",
       "top     164f0d73-1234-4e2c-8743-d77bf2191051  Kanye West   \n",
       "freq                                   26616       26616   \n",
       "\n",
       "                                    track-id track-name  \n",
       "count                                 595039     595039  \n",
       "unique                                 20666      19328  \n",
       "top     82558949-cd98-4c58-af35-3f1a9430d52e  Heartless  \n",
       "freq                                    2069       2120  "
      ]
     },
     "execution_count": 64,
     "metadata": {},
     "output_type": "execute_result"
    }
   ],
   "source": [
    "# Drop infrequent tracks.\n",
    "data = user_data[user_data['track-id'].isin(frequent_plays)]\n",
    "data.describe()"
   ]
  },
  {
   "cell_type": "markdown",
   "metadata": {},
   "source": [
    "Now, remove infrequent users."
   ]
  },
  {
   "cell_type": "code",
   "execution_count": 66,
   "metadata": {
    "collapsed": true
   },
   "outputs": [],
   "source": [
    "# Removing infrequent tracks.\n",
    "if data['userid'].isnull().sum() > 0:\n",
    "    data = data.dropna(axis = 0, subset = ['userid'])"
   ]
  },
  {
   "cell_type": "code",
   "execution_count": 67,
   "metadata": {
    "collapsed": false
   },
   "outputs": [
    {
     "data": {
      "text/plain": [
       "(595039, 6)"
      ]
     },
     "execution_count": 67,
     "metadata": {},
     "output_type": "execute_result"
    }
   ],
   "source": [
    "data.shape"
   ]
  },
  {
   "cell_type": "code",
   "execution_count": 68,
   "metadata": {
    "collapsed": false
   },
   "outputs": [
    {
     "data": {
      "text/html": [
       "<div>\n",
       "<table border=\"1\" class=\"dataframe\">\n",
       "  <thead>\n",
       "    <tr style=\"text-align: right;\">\n",
       "      <th></th>\n",
       "      <th>total</th>\n",
       "    </tr>\n",
       "  </thead>\n",
       "  <tbody>\n",
       "    <tr>\n",
       "      <th>count</th>\n",
       "      <td>41.000000</td>\n",
       "    </tr>\n",
       "    <tr>\n",
       "      <th>mean</th>\n",
       "      <td>14513.146341</td>\n",
       "    </tr>\n",
       "    <tr>\n",
       "      <th>std</th>\n",
       "      <td>15059.907282</td>\n",
       "    </tr>\n",
       "    <tr>\n",
       "      <th>min</th>\n",
       "      <td>176.000000</td>\n",
       "    </tr>\n",
       "    <tr>\n",
       "      <th>25%</th>\n",
       "      <td>3090.000000</td>\n",
       "    </tr>\n",
       "    <tr>\n",
       "      <th>50%</th>\n",
       "      <td>10437.000000</td>\n",
       "    </tr>\n",
       "    <tr>\n",
       "      <th>75%</th>\n",
       "      <td>18144.000000</td>\n",
       "    </tr>\n",
       "    <tr>\n",
       "      <th>max</th>\n",
       "      <td>58772.000000</td>\n",
       "    </tr>\n",
       "  </tbody>\n",
       "</table>\n",
       "</div>"
      ],
      "text/plain": [
       "              total\n",
       "count     41.000000\n",
       "mean   14513.146341\n",
       "std    15059.907282\n",
       "min      176.000000\n",
       "25%     3090.000000\n",
       "50%    10437.000000\n",
       "75%    18144.000000\n",
       "max    58772.000000"
      ]
     },
     "execution_count": 68,
     "metadata": {},
     "output_type": "execute_result"
    }
   ],
   "source": [
    "user_plays = data.groupby([\"userid\"]).size().reset_index()\n",
    "user_plays.rename(columns = {0: 'total'}, inplace = True)\n",
    "user_plays.describe()"
   ]
  },
  {
   "cell_type": "code",
   "execution_count": 69,
   "metadata": {
    "collapsed": false
   },
   "outputs": [
    {
     "data": {
      "text/plain": [
       "count              41\n",
       "unique             41\n",
       "top       user_000035\n",
       "freq                1\n",
       "Name: userid, dtype: object"
      ]
     },
     "execution_count": 69,
     "metadata": {},
     "output_type": "execute_result"
    }
   ],
   "source": [
    "frequent_users = user_plays[user_plays['total'] >= 10]['userid']\n",
    "frequent_users.describe()"
   ]
  },
  {
   "cell_type": "code",
   "execution_count": 70,
   "metadata": {
    "collapsed": false
   },
   "outputs": [
    {
     "data": {
      "text/html": [
       "<div>\n",
       "<table border=\"1\" class=\"dataframe\">\n",
       "  <thead>\n",
       "    <tr style=\"text-align: right;\">\n",
       "      <th></th>\n",
       "      <th>userid</th>\n",
       "      <th>timestamp</th>\n",
       "      <th>artist-id</th>\n",
       "      <th>artist-name</th>\n",
       "      <th>track-id</th>\n",
       "      <th>track-name</th>\n",
       "    </tr>\n",
       "  </thead>\n",
       "  <tbody>\n",
       "    <tr>\n",
       "      <th>count</th>\n",
       "      <td>595039</td>\n",
       "      <td>595039</td>\n",
       "      <td>595039</td>\n",
       "      <td>595039</td>\n",
       "      <td>595039</td>\n",
       "      <td>595039</td>\n",
       "    </tr>\n",
       "    <tr>\n",
       "      <th>unique</th>\n",
       "      <td>41</td>\n",
       "      <td>592738</td>\n",
       "      <td>3331</td>\n",
       "      <td>3309</td>\n",
       "      <td>20666</td>\n",
       "      <td>19328</td>\n",
       "    </tr>\n",
       "    <tr>\n",
       "      <th>top</th>\n",
       "      <td>user_000033</td>\n",
       "      <td>2008-11-24T11:38:21Z</td>\n",
       "      <td>164f0d73-1234-4e2c-8743-d77bf2191051</td>\n",
       "      <td>Kanye West</td>\n",
       "      <td>82558949-cd98-4c58-af35-3f1a9430d52e</td>\n",
       "      <td>Heartless</td>\n",
       "    </tr>\n",
       "    <tr>\n",
       "      <th>freq</th>\n",
       "      <td>58772</td>\n",
       "      <td>24</td>\n",
       "      <td>26616</td>\n",
       "      <td>26616</td>\n",
       "      <td>2069</td>\n",
       "      <td>2120</td>\n",
       "    </tr>\n",
       "  </tbody>\n",
       "</table>\n",
       "</div>"
      ],
      "text/plain": [
       "             userid             timestamp  \\\n",
       "count        595039                595039   \n",
       "unique           41                592738   \n",
       "top     user_000033  2008-11-24T11:38:21Z   \n",
       "freq          58772                    24   \n",
       "\n",
       "                                   artist-id artist-name  \\\n",
       "count                                 595039      595039   \n",
       "unique                                  3331        3309   \n",
       "top     164f0d73-1234-4e2c-8743-d77bf2191051  Kanye West   \n",
       "freq                                   26616       26616   \n",
       "\n",
       "                                    track-id track-name  \n",
       "count                                 595039     595039  \n",
       "unique                                 20666      19328  \n",
       "top     82558949-cd98-4c58-af35-3f1a9430d52e  Heartless  \n",
       "freq                                    2069       2120  "
      ]
     },
     "execution_count": 70,
     "metadata": {},
     "output_type": "execute_result"
    }
   ],
   "source": [
    "# Drop infrequent tracks.\n",
    "data = data[data['userid'].isin(frequent_users)]\n",
    "data.describe()"
   ]
  },
  {
   "cell_type": "markdown",
   "metadata": {},
   "source": [
    "## Storing id-name mappings\n",
    "\n",
    "Forming an artist, track id-name mapping."
   ]
  },
  {
   "cell_type": "code",
   "execution_count": 71,
   "metadata": {
    "collapsed": true
   },
   "outputs": [],
   "source": [
    "artists = data[[\"artist-id\", \"artist-name\"]].drop_duplicates()\n"
   ]
  },
  {
   "cell_type": "code",
   "execution_count": 72,
   "metadata": {
    "collapsed": true
   },
   "outputs": [],
   "source": [
    "track = data[[\"track-id\", \"track-name\"]].drop_duplicates()"
   ]
  },
  {
   "cell_type": "markdown",
   "metadata": {},
   "source": [
    "Forming a mapping from artist to track"
   ]
  },
  {
   "cell_type": "code",
   "execution_count": 73,
   "metadata": {
    "collapsed": true
   },
   "outputs": [],
   "source": [
    "artist_track = data[[\"track-id\", \"artist-id\"]].drop_duplicates()"
   ]
  },
  {
   "cell_type": "markdown",
   "metadata": {},
   "source": [
    "## Playcount matrix"
   ]
  },
  {
   "cell_type": "code",
   "execution_count": 74,
   "metadata": {
    "collapsed": true
   },
   "outputs": [],
   "source": [
    "playcount = data.groupby([\"userid\", \"track-id\"]).size().reset_index()"
   ]
  },
  {
   "cell_type": "code",
   "execution_count": 75,
   "metadata": {
    "collapsed": true
   },
   "outputs": [],
   "source": [
    "playcount.rename(columns = {0: 'playcount'}, inplace = True)"
   ]
  },
  {
   "cell_type": "code",
   "execution_count": 76,
   "metadata": {
    "collapsed": false
   },
   "outputs": [
    {
     "data": {
      "text/html": [
       "<div>\n",
       "<table border=\"1\" class=\"dataframe\">\n",
       "  <thead>\n",
       "    <tr style=\"text-align: right;\">\n",
       "      <th></th>\n",
       "      <th>userid</th>\n",
       "      <th>track-id</th>\n",
       "      <th>playcount</th>\n",
       "    </tr>\n",
       "  </thead>\n",
       "  <tbody>\n",
       "    <tr>\n",
       "      <th>0</th>\n",
       "      <td>user_000001</td>\n",
       "      <td>00b07689-ec4c-4773-94ce-06f3d198431e</td>\n",
       "      <td>4</td>\n",
       "    </tr>\n",
       "    <tr>\n",
       "      <th>1</th>\n",
       "      <td>user_000001</td>\n",
       "      <td>0198d56b-a92f-4596-a206-9e136f56e39f</td>\n",
       "      <td>21</td>\n",
       "    </tr>\n",
       "    <tr>\n",
       "      <th>2</th>\n",
       "      <td>user_000001</td>\n",
       "      <td>019cc5d9-1aaf-4687-b0af-6bc83bbccf0b</td>\n",
       "      <td>16</td>\n",
       "    </tr>\n",
       "    <tr>\n",
       "      <th>3</th>\n",
       "      <td>user_000001</td>\n",
       "      <td>01d866fc-7145-46af-ad7a-4133a477d54b</td>\n",
       "      <td>6</td>\n",
       "    </tr>\n",
       "    <tr>\n",
       "      <th>4</th>\n",
       "      <td>user_000001</td>\n",
       "      <td>02d30185-9d38-4f1c-9dac-63aa14f8cc69</td>\n",
       "      <td>1</td>\n",
       "    </tr>\n",
       "    <tr>\n",
       "      <th>5</th>\n",
       "      <td>user_000001</td>\n",
       "      <td>03156214-005e-456f-a5e3-0df32024fdad</td>\n",
       "      <td>16</td>\n",
       "    </tr>\n",
       "    <tr>\n",
       "      <th>6</th>\n",
       "      <td>user_000001</td>\n",
       "      <td>04049f3b-2fda-460f-a3ea-05f0418792c1</td>\n",
       "      <td>13</td>\n",
       "    </tr>\n",
       "    <tr>\n",
       "      <th>7</th>\n",
       "      <td>user_000001</td>\n",
       "      <td>04be389b-e44f-46c3-9ff3-2a0f0c3beda7</td>\n",
       "      <td>12</td>\n",
       "    </tr>\n",
       "    <tr>\n",
       "      <th>8</th>\n",
       "      <td>user_000001</td>\n",
       "      <td>05182b53-d942-4e39-9d87-3e62658898ff</td>\n",
       "      <td>14</td>\n",
       "    </tr>\n",
       "    <tr>\n",
       "      <th>9</th>\n",
       "      <td>user_000001</td>\n",
       "      <td>05ef9a7c-edab-4937-9c46-6bf572017d14</td>\n",
       "      <td>17</td>\n",
       "    </tr>\n",
       "  </tbody>\n",
       "</table>\n",
       "</div>"
      ],
      "text/plain": [
       "        userid                              track-id  playcount\n",
       "0  user_000001  00b07689-ec4c-4773-94ce-06f3d198431e          4\n",
       "1  user_000001  0198d56b-a92f-4596-a206-9e136f56e39f         21\n",
       "2  user_000001  019cc5d9-1aaf-4687-b0af-6bc83bbccf0b         16\n",
       "3  user_000001  01d866fc-7145-46af-ad7a-4133a477d54b          6\n",
       "4  user_000001  02d30185-9d38-4f1c-9dac-63aa14f8cc69          1\n",
       "5  user_000001  03156214-005e-456f-a5e3-0df32024fdad         16\n",
       "6  user_000001  04049f3b-2fda-460f-a3ea-05f0418792c1         13\n",
       "7  user_000001  04be389b-e44f-46c3-9ff3-2a0f0c3beda7         12\n",
       "8  user_000001  05182b53-d942-4e39-9d87-3e62658898ff         14\n",
       "9  user_000001  05ef9a7c-edab-4937-9c46-6bf572017d14         17"
      ]
     },
     "execution_count": 76,
     "metadata": {},
     "output_type": "execute_result"
    }
   ],
   "source": [
    "playcount[:10]"
   ]
  },
  {
   "cell_type": "code",
   "execution_count": 77,
   "metadata": {
    "collapsed": true
   },
   "outputs": [],
   "source": [
    "from scipy.sparse import csr_matrix\n",
    "\n",
    "playcounts = playcount.pivot(index = 'userid', columns = 'track-id', values = 'playcount').fillna(0)\n"
   ]
  },
  {
   "cell_type": "code",
   "execution_count": 80,
   "metadata": {
    "collapsed": false
   },
   "outputs": [
    {
     "data": {
      "text/html": [
       "<div>\n",
       "<table border=\"1\" class=\"dataframe\">\n",
       "  <thead>\n",
       "    <tr style=\"text-align: right;\">\n",
       "      <th>track-id</th>\n",
       "      <th>0002c0b8-b737-49d8-a007-68d3bc2da175</th>\n",
       "      <th>0003dd36-b4d2-4216-a37e-b110f6882ecb</th>\n",
       "      <th>0005ebe2-6971-4de6-a8eb-5dff41f3b811</th>\n",
       "      <th>00063d3a-14a8-4748-8025-4b7cb828b37f</th>\n",
       "      <th>00087784-820c-4f71-b539-1f948b37befe</th>\n",
       "      <th>0019e275-6d9f-4ff8-bcd8-1bfce804163a</th>\n",
       "      <th>002017be-b745-42e4-aaf2-74a1c3879703</th>\n",
       "      <th>00226a83-ec86-4950-83de-650c3715e344</th>\n",
       "      <th>00271b0b-0459-4984-a3a5-a1f88e1136ca</th>\n",
       "      <th>002a1ae6-34bf-4687-b2ff-f78aaf7c74f5</th>\n",
       "      <th>...</th>\n",
       "      <th>ffddf0b4-d265-40e1-8950-f97207e86838</th>\n",
       "      <th>ffe2102d-4a5e-48b7-977a-0c28e2af119e</th>\n",
       "      <th>ffe3798a-44fd-4795-969c-2e14fc7083c8</th>\n",
       "      <th>ffea36e9-ae42-402d-ba47-2c1ef4cfca05</th>\n",
       "      <th>ffeaac69-dfd9-4159-950f-3981d5775b91</th>\n",
       "      <th>fff02100-41bf-440f-bcb8-f8998b6b1cc7</th>\n",
       "      <th>fff1607f-8763-460f-bf46-44da9c95a93a</th>\n",
       "      <th>fff7464a-d5db-4dd7-9c40-9e8deddf6063</th>\n",
       "      <th>fffada82-2845-44a0-a783-899f383e295e</th>\n",
       "      <th>fffe453c-b68b-4e43-9cef-b6767a587415</th>\n",
       "    </tr>\n",
       "    <tr>\n",
       "      <th>userid</th>\n",
       "      <th></th>\n",
       "      <th></th>\n",
       "      <th></th>\n",
       "      <th></th>\n",
       "      <th></th>\n",
       "      <th></th>\n",
       "      <th></th>\n",
       "      <th></th>\n",
       "      <th></th>\n",
       "      <th></th>\n",
       "      <th></th>\n",
       "      <th></th>\n",
       "      <th></th>\n",
       "      <th></th>\n",
       "      <th></th>\n",
       "      <th></th>\n",
       "      <th></th>\n",
       "      <th></th>\n",
       "      <th></th>\n",
       "      <th></th>\n",
       "      <th></th>\n",
       "    </tr>\n",
       "  </thead>\n",
       "  <tbody>\n",
       "    <tr>\n",
       "      <th>user_000001</th>\n",
       "      <td>0.0</td>\n",
       "      <td>0.0</td>\n",
       "      <td>0.0</td>\n",
       "      <td>0.0</td>\n",
       "      <td>0.0</td>\n",
       "      <td>0.0</td>\n",
       "      <td>0.0</td>\n",
       "      <td>0.0</td>\n",
       "      <td>0.0</td>\n",
       "      <td>0.0</td>\n",
       "      <td>...</td>\n",
       "      <td>0.0</td>\n",
       "      <td>0.0</td>\n",
       "      <td>0.0</td>\n",
       "      <td>0.0</td>\n",
       "      <td>0.0</td>\n",
       "      <td>0.0</td>\n",
       "      <td>0.0</td>\n",
       "      <td>0.0</td>\n",
       "      <td>0.0</td>\n",
       "      <td>0.0</td>\n",
       "    </tr>\n",
       "    <tr>\n",
       "      <th>user_000002</th>\n",
       "      <td>0.0</td>\n",
       "      <td>7.0</td>\n",
       "      <td>0.0</td>\n",
       "      <td>0.0</td>\n",
       "      <td>0.0</td>\n",
       "      <td>0.0</td>\n",
       "      <td>0.0</td>\n",
       "      <td>0.0</td>\n",
       "      <td>0.0</td>\n",
       "      <td>0.0</td>\n",
       "      <td>...</td>\n",
       "      <td>0.0</td>\n",
       "      <td>11.0</td>\n",
       "      <td>1.0</td>\n",
       "      <td>0.0</td>\n",
       "      <td>0.0</td>\n",
       "      <td>0.0</td>\n",
       "      <td>0.0</td>\n",
       "      <td>0.0</td>\n",
       "      <td>0.0</td>\n",
       "      <td>16.0</td>\n",
       "    </tr>\n",
       "    <tr>\n",
       "      <th>user_000003</th>\n",
       "      <td>0.0</td>\n",
       "      <td>0.0</td>\n",
       "      <td>0.0</td>\n",
       "      <td>0.0</td>\n",
       "      <td>0.0</td>\n",
       "      <td>0.0</td>\n",
       "      <td>0.0</td>\n",
       "      <td>0.0</td>\n",
       "      <td>0.0</td>\n",
       "      <td>0.0</td>\n",
       "      <td>...</td>\n",
       "      <td>0.0</td>\n",
       "      <td>0.0</td>\n",
       "      <td>0.0</td>\n",
       "      <td>1.0</td>\n",
       "      <td>0.0</td>\n",
       "      <td>0.0</td>\n",
       "      <td>0.0</td>\n",
       "      <td>0.0</td>\n",
       "      <td>0.0</td>\n",
       "      <td>0.0</td>\n",
       "    </tr>\n",
       "    <tr>\n",
       "      <th>user_000004</th>\n",
       "      <td>0.0</td>\n",
       "      <td>0.0</td>\n",
       "      <td>0.0</td>\n",
       "      <td>0.0</td>\n",
       "      <td>0.0</td>\n",
       "      <td>0.0</td>\n",
       "      <td>0.0</td>\n",
       "      <td>0.0</td>\n",
       "      <td>0.0</td>\n",
       "      <td>0.0</td>\n",
       "      <td>...</td>\n",
       "      <td>10.0</td>\n",
       "      <td>0.0</td>\n",
       "      <td>1.0</td>\n",
       "      <td>0.0</td>\n",
       "      <td>0.0</td>\n",
       "      <td>0.0</td>\n",
       "      <td>0.0</td>\n",
       "      <td>0.0</td>\n",
       "      <td>0.0</td>\n",
       "      <td>0.0</td>\n",
       "    </tr>\n",
       "    <tr>\n",
       "      <th>user_000005</th>\n",
       "      <td>0.0</td>\n",
       "      <td>0.0</td>\n",
       "      <td>14.0</td>\n",
       "      <td>0.0</td>\n",
       "      <td>0.0</td>\n",
       "      <td>0.0</td>\n",
       "      <td>0.0</td>\n",
       "      <td>0.0</td>\n",
       "      <td>0.0</td>\n",
       "      <td>0.0</td>\n",
       "      <td>...</td>\n",
       "      <td>0.0</td>\n",
       "      <td>0.0</td>\n",
       "      <td>0.0</td>\n",
       "      <td>0.0</td>\n",
       "      <td>0.0</td>\n",
       "      <td>0.0</td>\n",
       "      <td>0.0</td>\n",
       "      <td>0.0</td>\n",
       "      <td>0.0</td>\n",
       "      <td>0.0</td>\n",
       "    </tr>\n",
       "    <tr>\n",
       "      <th>user_000006</th>\n",
       "      <td>0.0</td>\n",
       "      <td>0.0</td>\n",
       "      <td>10.0</td>\n",
       "      <td>0.0</td>\n",
       "      <td>0.0</td>\n",
       "      <td>0.0</td>\n",
       "      <td>0.0</td>\n",
       "      <td>0.0</td>\n",
       "      <td>0.0</td>\n",
       "      <td>0.0</td>\n",
       "      <td>...</td>\n",
       "      <td>0.0</td>\n",
       "      <td>0.0</td>\n",
       "      <td>0.0</td>\n",
       "      <td>0.0</td>\n",
       "      <td>0.0</td>\n",
       "      <td>0.0</td>\n",
       "      <td>0.0</td>\n",
       "      <td>0.0</td>\n",
       "      <td>0.0</td>\n",
       "      <td>0.0</td>\n",
       "    </tr>\n",
       "    <tr>\n",
       "      <th>user_000007</th>\n",
       "      <td>0.0</td>\n",
       "      <td>0.0</td>\n",
       "      <td>0.0</td>\n",
       "      <td>0.0</td>\n",
       "      <td>0.0</td>\n",
       "      <td>0.0</td>\n",
       "      <td>0.0</td>\n",
       "      <td>0.0</td>\n",
       "      <td>0.0</td>\n",
       "      <td>0.0</td>\n",
       "      <td>...</td>\n",
       "      <td>0.0</td>\n",
       "      <td>0.0</td>\n",
       "      <td>0.0</td>\n",
       "      <td>0.0</td>\n",
       "      <td>0.0</td>\n",
       "      <td>0.0</td>\n",
       "      <td>0.0</td>\n",
       "      <td>0.0</td>\n",
       "      <td>0.0</td>\n",
       "      <td>0.0</td>\n",
       "    </tr>\n",
       "    <tr>\n",
       "      <th>user_000008</th>\n",
       "      <td>0.0</td>\n",
       "      <td>0.0</td>\n",
       "      <td>0.0</td>\n",
       "      <td>0.0</td>\n",
       "      <td>0.0</td>\n",
       "      <td>0.0</td>\n",
       "      <td>0.0</td>\n",
       "      <td>0.0</td>\n",
       "      <td>0.0</td>\n",
       "      <td>0.0</td>\n",
       "      <td>...</td>\n",
       "      <td>0.0</td>\n",
       "      <td>0.0</td>\n",
       "      <td>0.0</td>\n",
       "      <td>0.0</td>\n",
       "      <td>0.0</td>\n",
       "      <td>0.0</td>\n",
       "      <td>0.0</td>\n",
       "      <td>0.0</td>\n",
       "      <td>0.0</td>\n",
       "      <td>0.0</td>\n",
       "    </tr>\n",
       "    <tr>\n",
       "      <th>user_000009</th>\n",
       "      <td>0.0</td>\n",
       "      <td>0.0</td>\n",
       "      <td>0.0</td>\n",
       "      <td>0.0</td>\n",
       "      <td>0.0</td>\n",
       "      <td>0.0</td>\n",
       "      <td>0.0</td>\n",
       "      <td>0.0</td>\n",
       "      <td>0.0</td>\n",
       "      <td>0.0</td>\n",
       "      <td>...</td>\n",
       "      <td>0.0</td>\n",
       "      <td>0.0</td>\n",
       "      <td>0.0</td>\n",
       "      <td>0.0</td>\n",
       "      <td>0.0</td>\n",
       "      <td>0.0</td>\n",
       "      <td>0.0</td>\n",
       "      <td>0.0</td>\n",
       "      <td>0.0</td>\n",
       "      <td>0.0</td>\n",
       "    </tr>\n",
       "    <tr>\n",
       "      <th>user_000010</th>\n",
       "      <td>0.0</td>\n",
       "      <td>0.0</td>\n",
       "      <td>0.0</td>\n",
       "      <td>0.0</td>\n",
       "      <td>0.0</td>\n",
       "      <td>0.0</td>\n",
       "      <td>0.0</td>\n",
       "      <td>0.0</td>\n",
       "      <td>0.0</td>\n",
       "      <td>0.0</td>\n",
       "      <td>...</td>\n",
       "      <td>0.0</td>\n",
       "      <td>0.0</td>\n",
       "      <td>0.0</td>\n",
       "      <td>0.0</td>\n",
       "      <td>0.0</td>\n",
       "      <td>0.0</td>\n",
       "      <td>0.0</td>\n",
       "      <td>0.0</td>\n",
       "      <td>0.0</td>\n",
       "      <td>0.0</td>\n",
       "    </tr>\n",
       "  </tbody>\n",
       "</table>\n",
       "<p>10 rows × 20666 columns</p>\n",
       "</div>"
      ],
      "text/plain": [
       "track-id     0002c0b8-b737-49d8-a007-68d3bc2da175  \\\n",
       "userid                                              \n",
       "user_000001                                   0.0   \n",
       "user_000002                                   0.0   \n",
       "user_000003                                   0.0   \n",
       "user_000004                                   0.0   \n",
       "user_000005                                   0.0   \n",
       "user_000006                                   0.0   \n",
       "user_000007                                   0.0   \n",
       "user_000008                                   0.0   \n",
       "user_000009                                   0.0   \n",
       "user_000010                                   0.0   \n",
       "\n",
       "track-id     0003dd36-b4d2-4216-a37e-b110f6882ecb  \\\n",
       "userid                                              \n",
       "user_000001                                   0.0   \n",
       "user_000002                                   7.0   \n",
       "user_000003                                   0.0   \n",
       "user_000004                                   0.0   \n",
       "user_000005                                   0.0   \n",
       "user_000006                                   0.0   \n",
       "user_000007                                   0.0   \n",
       "user_000008                                   0.0   \n",
       "user_000009                                   0.0   \n",
       "user_000010                                   0.0   \n",
       "\n",
       "track-id     0005ebe2-6971-4de6-a8eb-5dff41f3b811  \\\n",
       "userid                                              \n",
       "user_000001                                   0.0   \n",
       "user_000002                                   0.0   \n",
       "user_000003                                   0.0   \n",
       "user_000004                                   0.0   \n",
       "user_000005                                  14.0   \n",
       "user_000006                                  10.0   \n",
       "user_000007                                   0.0   \n",
       "user_000008                                   0.0   \n",
       "user_000009                                   0.0   \n",
       "user_000010                                   0.0   \n",
       "\n",
       "track-id     00063d3a-14a8-4748-8025-4b7cb828b37f  \\\n",
       "userid                                              \n",
       "user_000001                                   0.0   \n",
       "user_000002                                   0.0   \n",
       "user_000003                                   0.0   \n",
       "user_000004                                   0.0   \n",
       "user_000005                                   0.0   \n",
       "user_000006                                   0.0   \n",
       "user_000007                                   0.0   \n",
       "user_000008                                   0.0   \n",
       "user_000009                                   0.0   \n",
       "user_000010                                   0.0   \n",
       "\n",
       "track-id     00087784-820c-4f71-b539-1f948b37befe  \\\n",
       "userid                                              \n",
       "user_000001                                   0.0   \n",
       "user_000002                                   0.0   \n",
       "user_000003                                   0.0   \n",
       "user_000004                                   0.0   \n",
       "user_000005                                   0.0   \n",
       "user_000006                                   0.0   \n",
       "user_000007                                   0.0   \n",
       "user_000008                                   0.0   \n",
       "user_000009                                   0.0   \n",
       "user_000010                                   0.0   \n",
       "\n",
       "track-id     0019e275-6d9f-4ff8-bcd8-1bfce804163a  \\\n",
       "userid                                              \n",
       "user_000001                                   0.0   \n",
       "user_000002                                   0.0   \n",
       "user_000003                                   0.0   \n",
       "user_000004                                   0.0   \n",
       "user_000005                                   0.0   \n",
       "user_000006                                   0.0   \n",
       "user_000007                                   0.0   \n",
       "user_000008                                   0.0   \n",
       "user_000009                                   0.0   \n",
       "user_000010                                   0.0   \n",
       "\n",
       "track-id     002017be-b745-42e4-aaf2-74a1c3879703  \\\n",
       "userid                                              \n",
       "user_000001                                   0.0   \n",
       "user_000002                                   0.0   \n",
       "user_000003                                   0.0   \n",
       "user_000004                                   0.0   \n",
       "user_000005                                   0.0   \n",
       "user_000006                                   0.0   \n",
       "user_000007                                   0.0   \n",
       "user_000008                                   0.0   \n",
       "user_000009                                   0.0   \n",
       "user_000010                                   0.0   \n",
       "\n",
       "track-id     00226a83-ec86-4950-83de-650c3715e344  \\\n",
       "userid                                              \n",
       "user_000001                                   0.0   \n",
       "user_000002                                   0.0   \n",
       "user_000003                                   0.0   \n",
       "user_000004                                   0.0   \n",
       "user_000005                                   0.0   \n",
       "user_000006                                   0.0   \n",
       "user_000007                                   0.0   \n",
       "user_000008                                   0.0   \n",
       "user_000009                                   0.0   \n",
       "user_000010                                   0.0   \n",
       "\n",
       "track-id     00271b0b-0459-4984-a3a5-a1f88e1136ca  \\\n",
       "userid                                              \n",
       "user_000001                                   0.0   \n",
       "user_000002                                   0.0   \n",
       "user_000003                                   0.0   \n",
       "user_000004                                   0.0   \n",
       "user_000005                                   0.0   \n",
       "user_000006                                   0.0   \n",
       "user_000007                                   0.0   \n",
       "user_000008                                   0.0   \n",
       "user_000009                                   0.0   \n",
       "user_000010                                   0.0   \n",
       "\n",
       "track-id     002a1ae6-34bf-4687-b2ff-f78aaf7c74f5  \\\n",
       "userid                                              \n",
       "user_000001                                   0.0   \n",
       "user_000002                                   0.0   \n",
       "user_000003                                   0.0   \n",
       "user_000004                                   0.0   \n",
       "user_000005                                   0.0   \n",
       "user_000006                                   0.0   \n",
       "user_000007                                   0.0   \n",
       "user_000008                                   0.0   \n",
       "user_000009                                   0.0   \n",
       "user_000010                                   0.0   \n",
       "\n",
       "track-id                     ...                   \\\n",
       "userid                       ...                    \n",
       "user_000001                  ...                    \n",
       "user_000002                  ...                    \n",
       "user_000003                  ...                    \n",
       "user_000004                  ...                    \n",
       "user_000005                  ...                    \n",
       "user_000006                  ...                    \n",
       "user_000007                  ...                    \n",
       "user_000008                  ...                    \n",
       "user_000009                  ...                    \n",
       "user_000010                  ...                    \n",
       "\n",
       "track-id     ffddf0b4-d265-40e1-8950-f97207e86838  \\\n",
       "userid                                              \n",
       "user_000001                                   0.0   \n",
       "user_000002                                   0.0   \n",
       "user_000003                                   0.0   \n",
       "user_000004                                  10.0   \n",
       "user_000005                                   0.0   \n",
       "user_000006                                   0.0   \n",
       "user_000007                                   0.0   \n",
       "user_000008                                   0.0   \n",
       "user_000009                                   0.0   \n",
       "user_000010                                   0.0   \n",
       "\n",
       "track-id     ffe2102d-4a5e-48b7-977a-0c28e2af119e  \\\n",
       "userid                                              \n",
       "user_000001                                   0.0   \n",
       "user_000002                                  11.0   \n",
       "user_000003                                   0.0   \n",
       "user_000004                                   0.0   \n",
       "user_000005                                   0.0   \n",
       "user_000006                                   0.0   \n",
       "user_000007                                   0.0   \n",
       "user_000008                                   0.0   \n",
       "user_000009                                   0.0   \n",
       "user_000010                                   0.0   \n",
       "\n",
       "track-id     ffe3798a-44fd-4795-969c-2e14fc7083c8  \\\n",
       "userid                                              \n",
       "user_000001                                   0.0   \n",
       "user_000002                                   1.0   \n",
       "user_000003                                   0.0   \n",
       "user_000004                                   1.0   \n",
       "user_000005                                   0.0   \n",
       "user_000006                                   0.0   \n",
       "user_000007                                   0.0   \n",
       "user_000008                                   0.0   \n",
       "user_000009                                   0.0   \n",
       "user_000010                                   0.0   \n",
       "\n",
       "track-id     ffea36e9-ae42-402d-ba47-2c1ef4cfca05  \\\n",
       "userid                                              \n",
       "user_000001                                   0.0   \n",
       "user_000002                                   0.0   \n",
       "user_000003                                   1.0   \n",
       "user_000004                                   0.0   \n",
       "user_000005                                   0.0   \n",
       "user_000006                                   0.0   \n",
       "user_000007                                   0.0   \n",
       "user_000008                                   0.0   \n",
       "user_000009                                   0.0   \n",
       "user_000010                                   0.0   \n",
       "\n",
       "track-id     ffeaac69-dfd9-4159-950f-3981d5775b91  \\\n",
       "userid                                              \n",
       "user_000001                                   0.0   \n",
       "user_000002                                   0.0   \n",
       "user_000003                                   0.0   \n",
       "user_000004                                   0.0   \n",
       "user_000005                                   0.0   \n",
       "user_000006                                   0.0   \n",
       "user_000007                                   0.0   \n",
       "user_000008                                   0.0   \n",
       "user_000009                                   0.0   \n",
       "user_000010                                   0.0   \n",
       "\n",
       "track-id     fff02100-41bf-440f-bcb8-f8998b6b1cc7  \\\n",
       "userid                                              \n",
       "user_000001                                   0.0   \n",
       "user_000002                                   0.0   \n",
       "user_000003                                   0.0   \n",
       "user_000004                                   0.0   \n",
       "user_000005                                   0.0   \n",
       "user_000006                                   0.0   \n",
       "user_000007                                   0.0   \n",
       "user_000008                                   0.0   \n",
       "user_000009                                   0.0   \n",
       "user_000010                                   0.0   \n",
       "\n",
       "track-id     fff1607f-8763-460f-bf46-44da9c95a93a  \\\n",
       "userid                                              \n",
       "user_000001                                   0.0   \n",
       "user_000002                                   0.0   \n",
       "user_000003                                   0.0   \n",
       "user_000004                                   0.0   \n",
       "user_000005                                   0.0   \n",
       "user_000006                                   0.0   \n",
       "user_000007                                   0.0   \n",
       "user_000008                                   0.0   \n",
       "user_000009                                   0.0   \n",
       "user_000010                                   0.0   \n",
       "\n",
       "track-id     fff7464a-d5db-4dd7-9c40-9e8deddf6063  \\\n",
       "userid                                              \n",
       "user_000001                                   0.0   \n",
       "user_000002                                   0.0   \n",
       "user_000003                                   0.0   \n",
       "user_000004                                   0.0   \n",
       "user_000005                                   0.0   \n",
       "user_000006                                   0.0   \n",
       "user_000007                                   0.0   \n",
       "user_000008                                   0.0   \n",
       "user_000009                                   0.0   \n",
       "user_000010                                   0.0   \n",
       "\n",
       "track-id     fffada82-2845-44a0-a783-899f383e295e  \\\n",
       "userid                                              \n",
       "user_000001                                   0.0   \n",
       "user_000002                                   0.0   \n",
       "user_000003                                   0.0   \n",
       "user_000004                                   0.0   \n",
       "user_000005                                   0.0   \n",
       "user_000006                                   0.0   \n",
       "user_000007                                   0.0   \n",
       "user_000008                                   0.0   \n",
       "user_000009                                   0.0   \n",
       "user_000010                                   0.0   \n",
       "\n",
       "track-id     fffe453c-b68b-4e43-9cef-b6767a587415  \n",
       "userid                                             \n",
       "user_000001                                   0.0  \n",
       "user_000002                                  16.0  \n",
       "user_000003                                   0.0  \n",
       "user_000004                                   0.0  \n",
       "user_000005                                   0.0  \n",
       "user_000006                                   0.0  \n",
       "user_000007                                   0.0  \n",
       "user_000008                                   0.0  \n",
       "user_000009                                   0.0  \n",
       "user_000010                                   0.0  \n",
       "\n",
       "[10 rows x 20666 columns]"
      ]
     },
     "execution_count": 80,
     "metadata": {},
     "output_type": "execute_result"
    }
   ],
   "source": [
    "plays_matrix = csr_matrix(playcounts.values)\n",
    "playcounts[:10]"
   ]
  },
  {
   "cell_type": "markdown",
   "metadata": {},
   "source": [
    "## Conversion of Playcounts to Ratings\n",
    "\n",
    "Based on work in A hybrid online-product recommendation system: Combining implicit\n",
    "rating-based collaborative filtering and sequential pattern analysis by Choi et al.\n",
    "\n",
    "Absolute Preference: AP(u, i) = ln((n(u played i)/n(u played anything)) + 1)\n",
    "\n",
    "Relative Preference: RP(u, i) = AP(u,i) / Max_{c \\in U} AP(c, i)\n",
    "\n",
    "Implicit Rating: R(u, i) = Round up(5 * RP (u,i))"
   ]
  },
  {
   "cell_type": "code",
   "execution_count": 82,
   "metadata": {
    "collapsed": false
   },
   "outputs": [
    {
     "name": "stdout",
     "output_type": "stream",
     "text": [
      "[[  6723.]\n",
      " [ 42930.]\n",
      " [ 10437.]\n",
      " [  8200.]\n",
      " [ 13211.]\n",
      " [ 10246.]\n",
      " [   182.]\n",
      " [ 34997.]\n",
      " [  1857.]\n",
      " [  3090.]\n",
      " [  3700.]\n",
      " [ 47121.]\n",
      " [  4220.]\n",
      " [   176.]\n",
      " [ 10161.]\n",
      " [ 11517.]\n",
      " [  3810.]\n",
      " [ 10566.]\n",
      " [ 22334.]\n",
      " [  2793.]]\n",
      "(41, 1)\n"
     ]
    }
   ],
   "source": [
    "# List of number of songs ever played by each user. Reduces computation\n",
    "user_plays = plays_matrix.sum(axis=1) # Sum all columns\n",
    "print(user_plays[:20])\n",
    "print(user_plays.shape)\n",
    "\n",
    "#number_of_users"
   ]
  },
  {
   "cell_type": "code",
   "execution_count": 83,
   "metadata": {
    "collapsed": true
   },
   "outputs": [],
   "source": [
    "# Compute Absolute Rating\n",
    "absolute_preferences = np.log(plays_matrix / user_plays + 1)"
   ]
  },
  {
   "cell_type": "code",
   "execution_count": 84,
   "metadata": {
    "collapsed": false
   },
   "outputs": [],
   "source": [
    "absolute_preferences.shape\n",
    "number_of_users=absolute_preferences.shape[0]\n",
    "number_of_items=absolute_preferences.shape[1]"
   ]
  },
  {
   "cell_type": "code",
   "execution_count": 85,
   "metadata": {
    "collapsed": false
   },
   "outputs": [
    {
     "name": "stdout",
     "output_type": "stream",
     "text": [
      "[[ 0.00077131  0.00054501  0.00105916 ...,  0.00215983  0.00067887\n",
      "   0.00037263]]\n",
      "(1, 20666)\n"
     ]
    }
   ],
   "source": [
    "# 2. List of maximum ratings of each item\n",
    "max_ratings = absolute_preferences.max(axis=0) # Along columns\n",
    "print(max_ratings[:10])\n",
    "print(max_ratings.shape)"
   ]
  },
  {
   "cell_type": "code",
   "execution_count": 86,
   "metadata": {
    "collapsed": false
   },
   "outputs": [
    {
     "name": "stdout",
     "output_type": "stream",
     "text": [
      "0\n"
     ]
    }
   ],
   "source": [
    "print(max_ratings[max_ratings ==0].size)"
   ]
  },
  {
   "cell_type": "code",
   "execution_count": 87,
   "metadata": {
    "collapsed": false
   },
   "outputs": [
    {
     "name": "stdout",
     "output_type": "stream",
     "text": [
      "0\n"
     ]
    }
   ],
   "source": [
    "print(user_plays[user_plays == 0].size)"
   ]
  },
  {
   "cell_type": "code",
   "execution_count": 88,
   "metadata": {
    "collapsed": false
   },
   "outputs": [
    {
     "name": "stdout",
     "output_type": "stream",
     "text": [
      "(1, 20666)\n"
     ]
    }
   ],
   "source": [
    "print(max_ratings.shape)"
   ]
  },
  {
   "cell_type": "code",
   "execution_count": 89,
   "metadata": {
    "collapsed": false
   },
   "outputs": [
    {
     "name": "stdout",
     "output_type": "stream",
     "text": [
      "(41, 20666)\n",
      "(41, 20666)\n"
     ]
    }
   ],
   "source": [
    "# Relative Preference: RP(u, i) = AP(u,i) / Max_{c \\in U} AP(c, i)\n",
    "relative_preferences = absolute_preferences / (max_ratings)\n",
    "print(absolute_preferences.shape)\n",
    "print(relative_preferences.shape)"
   ]
  },
  {
   "cell_type": "code",
   "execution_count": 90,
   "metadata": {
    "collapsed": true
   },
   "outputs": [],
   "source": [
    "# Implicit Rating: R(u, i) = Round up(5 * RP (u,i))\n",
    "implicit_ratings = np.ceil(5 * relative_preferences)"
   ]
  },
  {
   "cell_type": "code",
   "execution_count": 91,
   "metadata": {
    "collapsed": false
   },
   "outputs": [
    {
     "name": "stdout",
     "output_type": "stream",
     "text": [
      "[[ 0.  0.  0.  0.  0.  0.  0.  0.  0.  0.]\n",
      " [ 0.  2.  0.  0.  0.  0.  0.  0.  0.  0.]\n",
      " [ 0.  0.  0.  0.  0.  0.  0.  0.  0.  0.]\n",
      " [ 0.  0.  0.  0.  0.  0.  0.  0.  0.  0.]\n",
      " [ 0.  0.  5.  0.  0.  0.  0.  0.  0.  0.]\n",
      " [ 0.  0.  5.  0.  0.  0.  0.  0.  0.  0.]\n",
      " [ 0.  0.  0.  0.  0.  0.  0.  0.  0.  0.]\n",
      " [ 0.  0.  0.  0.  0.  0.  0.  0.  0.  0.]\n",
      " [ 0.  0.  0.  0.  0.  0.  0.  0.  0.  0.]\n",
      " [ 0.  0.  0.  0.  0.  0.  0.  0.  0.  0.]]\n"
     ]
    }
   ],
   "source": [
    "implicit_ratings.max(axis=1)\n",
    "print(implicit_ratings[:10, :10])"
   ]
  },
  {
   "cell_type": "code",
   "execution_count": 92,
   "metadata": {
    "collapsed": false
   },
   "outputs": [
    {
     "data": {
      "text/plain": [
       "(41, 20666)"
      ]
     },
     "execution_count": 92,
     "metadata": {},
     "output_type": "execute_result"
    }
   ],
   "source": [
    "implicit_ratings.shape"
   ]
  },
  {
   "cell_type": "code",
   "execution_count": 93,
   "metadata": {
    "collapsed": true
   },
   "outputs": [],
   "source": [
    "def compute_biases(ratings):\n",
    "    \"\"\"computes biases for every user and every item, and the overall average of the ratings\n",
    "    \n",
    "    input:\n",
    "        ratings: the matrix of ratings\n",
    "    output: \n",
    "        mu: overall average of ratings\n",
    "        user_biases: deviations of user means wrt mu, shape (1,N)\n",
    "        item_biases: deviations of item means wrt mu, shape (D,1)\n",
    "    \"\"\"\n",
    "    num_users, num_items = ratings.shape\n",
    "    \n",
    "\n",
    "    # boolean array showing the nonzero entries\n",
    "    nz = ratings != 0\n",
    "\n",
    "    # the mean is computed over ALL nonzero ratings\n",
    "    mu = ratings[nz].mean()\n",
    "    print(num_users)\n",
    "    print(num_items)\n",
    "    # mean over all nonzero ratings\n",
    "    # biases for every user/item\n",
    "    item_means = ratings.sum(axis=0) / (nz).sum(axis=0)\n",
    "    user_means = ratings.sum(axis=1) / (nz).sum(axis=1)\n",
    "    user_biases = np.reshape(user_means - mu, (1, num_users))\n",
    "    item_biases = np.reshape(item_means - mu, (num_items, 1))\n",
    "    return mu, user_biases, item_biases\n",
    "\n",
    "\n"
   ]
  },
  {
   "cell_type": "code",
   "execution_count": 94,
   "metadata": {
    "collapsed": false
   },
   "outputs": [
    {
     "name": "stdout",
     "output_type": "stream",
     "text": [
      "41\n",
      "20666\n"
     ]
    }
   ],
   "source": [
    "mu, user_biases, item_biases  = compute_biases(implicit_ratings)"
   ]
  },
  {
   "cell_type": "code",
   "execution_count": 95,
   "metadata": {
    "collapsed": true
   },
   "outputs": [],
   "source": [
    "def prediction_biased(W, Z, mu, user_biases, item_biases):\n",
    "    \"\"\" returns the biased prediction matrix.\n",
    "    \n",
    "    input :\n",
    "        W: item feature matrix\n",
    "        Z: user feature matrix\n",
    "        mu: average of all ratings\n",
    "        user_biases: deviations of user means wrt mu, shape (1,N)\n",
    "        item_biases: deviations of item means wrt mu, shape (D,1) \n",
    "    output:\n",
    "        X_hat : has shape (D, N)\n",
    "    \"\"\"\n",
    "    # compute the biased prediction matrix\n",
    "    X_hat = (W.transpose().dot(Z)) + item_biases + user_biases + mu\n",
    "\n",
    "    # make sure that ratings stay within valid range of 1-5\n",
    "    if np.isscalar(X_hat):\n",
    "        if X_hat < 1:\n",
    "            X_hat = 1\n",
    "        elif X_hat > 5:\n",
    "            X_hat = 5\n",
    "    else:\n",
    "        X_hat[X_hat < 1] = 1.\n",
    "        X_hat[X_hat > 5] = 5.\n",
    "\n",
    "    return X_hat"
   ]
  },
  {
   "cell_type": "code",
   "execution_count": null,
   "metadata": {
    "collapsed": true
   },
   "outputs": [],
   "source": []
  }
 ],
 "metadata": {
  "kernelspec": {
   "display_name": "Python 2",
   "language": "python",
   "name": "python2"
  },
  "language_info": {
   "codemirror_mode": {
    "name": "ipython",
    "version": 2
   },
   "file_extension": ".py",
   "mimetype": "text/x-python",
   "name": "python",
   "nbconvert_exporter": "python",
   "pygments_lexer": "ipython2",
   "version": "2.7.13"
  }
 },
 "nbformat": 4,
 "nbformat_minor": 1
}
